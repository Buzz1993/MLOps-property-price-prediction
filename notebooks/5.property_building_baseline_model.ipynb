{
 "cells": [
  {
   "cell_type": "markdown",
   "id": "6939d5c0-5290-4f43-a6b9-74c8e93e767c",
   "metadata": {},
   "source": [
    "# Building a Baseline model "
   ]
  },
  {
   "cell_type": "markdown",
   "id": "c443fc22-eb3f-4316-9b7d-315cce3ffe35",
   "metadata": {},
   "source": [
    "# Imputation"
   ]
  },
  {
   "cell_type": "markdown",
   "id": "95b9dad4-5a47-488e-b946-0c2c37a42381",
   "metadata": {},
   "source": [
    "`lets categorized the columns`"
   ]
  },
  {
   "cell_type": "code",
   "execution_count": 46,
   "id": "a36f8cd6-d075-4b18-b6ce-aa625c4211bc",
   "metadata": {},
   "outputs": [],
   "source": [
    "num_nominal_cols = ['project_in_acres','lattitude','longitude','area','costpersqft','emi', 'education_mean_km', 'education_min_km','transport_mean_km', 'transport_min_km',\n",
    "                    'shopping_centre_mean_km', 'shopping_centre_min_km','commercial_hub_mean_km', 'commercial_hub_min_km','overall_min_mean_km', 'overall_avg_mean_km',\n",
    "                    'overall_min_min_km', 'overall_avg_min_km']\n",
    "\n",
    "num_ordinal_cols = ['flat_on_floor','total_floor','bed','bath','balcony','lift','parking','education_within_2km','transport_within_2km','shopping_centre_within_2km',\n",
    "                    'commercial_hub_within_2km','hospital_within_2km','tourist_within_2km','total_within_2km']\n",
    "\n",
    "nominal_cat_cols = ['id','builder','project_name','location','city','property_type','ownership','overlooking','facing','flooring','extra_rooms','seller']\n",
    "\n",
    "ordinal_cat_cols = ['status','construction','furnish']\n",
    "#status : 'under construction < ongoing < ready to move'\n",
    "#construction : 'under construction → new construction → less than 5 years → 5 to 10 years → 10 to 15 years → 15 to 20 years → above 20 years'\n",
    "#furnish : 'unfurnished < semi-furnished < furnished'"
   ]
  },
  {
   "cell_type": "code",
   "execution_count": null,
   "id": "9e1bc8b7-9f3b-4281-a2fc-93062d5d60e3",
   "metadata": {},
   "outputs": [],
   "source": []
  },
  {
   "cell_type": "code",
   "execution_count": null,
   "id": "d97501d0-88ef-4601-a6a6-c0f86524e209",
   "metadata": {},
   "outputs": [],
   "source": []
  },
  {
   "cell_type": "code",
   "execution_count": null,
   "id": "57a10a11-2929-4133-b0cc-b8f8e28e01ec",
   "metadata": {},
   "outputs": [],
   "source": []
  },
  {
   "cell_type": "code",
   "execution_count": null,
   "id": "bec3e3a8-1cb6-4c60-afb7-7e40b6e3b0d1",
   "metadata": {},
   "outputs": [],
   "source": []
  },
  {
   "cell_type": "code",
   "execution_count": null,
   "id": "5c84c293-7495-49b7-aeef-41c37226d42d",
   "metadata": {},
   "outputs": [],
   "source": []
  },
  {
   "cell_type": "code",
   "execution_count": null,
   "id": "d28618e7-53de-4efd-8289-c269b63cca70",
   "metadata": {},
   "outputs": [],
   "source": []
  },
  {
   "cell_type": "code",
   "execution_count": null,
   "id": "ea90f2ea-73c7-4b8c-a3be-66ae43687118",
   "metadata": {},
   "outputs": [],
   "source": []
  },
  {
   "cell_type": "code",
   "execution_count": null,
   "id": "a8cde9ae-41cd-4fa8-9051-d9625ddee9d0",
   "metadata": {},
   "outputs": [],
   "source": []
  },
  {
   "cell_type": "code",
   "execution_count": null,
   "id": "e9e9ce8f-7d31-4534-b63f-5734054a3192",
   "metadata": {},
   "outputs": [],
   "source": []
  },
  {
   "cell_type": "code",
   "execution_count": null,
   "id": "c0f591f3-d84a-4deb-86c9-9eddfdcaf67e",
   "metadata": {},
   "outputs": [],
   "source": []
  },
  {
   "cell_type": "code",
   "execution_count": null,
   "id": "210790f8-22d4-43bf-aa95-c6c94ad6dee5",
   "metadata": {},
   "outputs": [],
   "source": []
  },
  {
   "cell_type": "code",
   "execution_count": null,
   "id": "700dcf6e-22a6-4328-9001-079b30aac1be",
   "metadata": {},
   "outputs": [],
   "source": []
  },
  {
   "cell_type": "code",
   "execution_count": null,
   "id": "38daf3d3-7f43-411f-80f9-e4ec8ed34d62",
   "metadata": {},
   "outputs": [],
   "source": []
  },
  {
   "cell_type": "code",
   "execution_count": null,
   "id": "fb512c46-d66c-4061-8190-0c22816e6d44",
   "metadata": {},
   "outputs": [],
   "source": []
  },
  {
   "cell_type": "code",
   "execution_count": null,
   "id": "cc3581d3-17d3-4feb-94f2-13cd7c7da646",
   "metadata": {},
   "outputs": [],
   "source": []
  },
  {
   "cell_type": "code",
   "execution_count": null,
   "id": "2a42c0da-d7e0-410e-859d-45511916ee5b",
   "metadata": {},
   "outputs": [],
   "source": []
  },
  {
   "cell_type": "code",
   "execution_count": null,
   "id": "6854910e-097c-4a67-a54f-571bd6f686cc",
   "metadata": {},
   "outputs": [],
   "source": []
  },
  {
   "cell_type": "code",
   "execution_count": null,
   "id": "d3415eb5-e88b-4df8-80c2-b99c140a870d",
   "metadata": {},
   "outputs": [],
   "source": []
  }
 ],
 "metadata": {
  "kernelspec": {
   "display_name": "Python 3 (ipykernel)",
   "language": "python",
   "name": "python3"
  },
  "language_info": {
   "codemirror_mode": {
    "name": "ipython",
    "version": 3
   },
   "file_extension": ".py",
   "mimetype": "text/x-python",
   "name": "python",
   "nbconvert_exporter": "python",
   "pygments_lexer": "ipython3",
   "version": "3.12.4"
  }
 },
 "nbformat": 4,
 "nbformat_minor": 5
}
